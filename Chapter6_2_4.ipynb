{
 "cells": [
  {
   "cell_type": "markdown",
   "metadata": {},
   "source": [
    "# 6.2.4 [실습] LSTM 기초"
   ]
  },
  {
   "cell_type": "code",
   "execution_count": 3,
   "metadata": {},
   "outputs": [
    {
     "name": "stdout",
     "output_type": "stream",
     "text": [
      "\u001b[1m1/1\u001b[0m \u001b[32m━━━━━━━━━━━━━━━━━━━━\u001b[0m\u001b[37m\u001b[0m \u001b[1m0s\u001b[0m 214ms/step\n",
      "lstm_out:  [[-0.06140338]]\n",
      "hidden_state:  [[-0.06140338]]\n",
      "cell_state:  [[-0.16486382]]\n"
     ]
    }
   ],
   "source": [
    "import tensorflow as tf\n",
    "from tensorflow.keras.layers import Input, Dense, LSTM\n",
    "from tensorflow.keras.models import Model\n",
    "import numpy as np\n",
    "\n",
    "inputs = Input(shape=(1, 2))\n",
    "\n",
    "lstm_out, hidden_state, cell_state = LSTM(1, return_state=True)(inputs)\n",
    "model = Model(inputs=inputs, outputs=[lstm_out, hidden_state, cell_state])\n",
    "\n",
    "data = np.array([[[1, 0]]])\n",
    "\n",
    "lstm_out, hidden_state, cell_state = model.predict(data)\n",
    "print(\"lstm_out: \", lstm_out)\n",
    "print(\"hidden_state: \", hidden_state)\n",
    "print(\"cell_state: \", cell_state)"
   ]
  }
 ],
 "metadata": {
  "kernelspec": {
   "display_name": "Python 3",
   "language": "python",
   "name": "python3"
  },
  "language_info": {
   "codemirror_mode": {
    "name": "ipython",
    "version": 3
   },
   "file_extension": ".py",
   "mimetype": "text/x-python",
   "name": "python",
   "nbconvert_exporter": "python",
   "pygments_lexer": "ipython3",
   "version": "3.12.4"
  }
 },
 "nbformat": 4,
 "nbformat_minor": 2
}
