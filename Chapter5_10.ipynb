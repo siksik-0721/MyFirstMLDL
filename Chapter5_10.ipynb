{
 "cells": [
  {
   "cell_type": "markdown",
   "metadata": {},
   "source": [
    "# 5.10 [실습] 퍼셉트론"
   ]
  },
  {
   "cell_type": "code",
   "execution_count": 1,
   "metadata": {},
   "outputs": [],
   "source": [
    "import tensorflow as tf"
   ]
  },
  {
   "cell_type": "code",
   "execution_count": 2,
   "metadata": {},
   "outputs": [],
   "source": [
    "T = 1.0\n",
    "F = 0.0\n",
    "bias = 1.0"
   ]
  },
  {
   "cell_type": "code",
   "execution_count": 11,
   "metadata": {},
   "outputs": [],
   "source": [
    "def get_AND_data():\n",
    "    X = [\n",
    "        [F, F, bias],\n",
    "        [F, T, bias],\n",
    "        [T, F, bias],\n",
    "        [T, T, bias],\n",
    "    ]\n",
    "    y = [[F], [F], [F], [T]]\n",
    "    return X, y\n",
    "\n",
    "\n",
    "def get_OR_data():\n",
    "    X = [\n",
    "        [F, F, bias],\n",
    "        [F, T, bias],\n",
    "        [T, F, bias],\n",
    "        [T, T, bias],\n",
    "    ]\n",
    "    y = [[F], [T], [T], [T]]\n",
    "    return X, y\n",
    "\n",
    "\n",
    "def get_XOR_data():\n",
    "    X = [\n",
    "        [F, F, bias],\n",
    "        [F, T, bias],\n",
    "        [T, F, bias],\n",
    "        [T, T, bias],\n",
    "    ]\n",
    "    y = [[F], [T], [T], [F]]\n",
    "    return X, y"
   ]
  },
  {
   "cell_type": "code",
   "execution_count": 12,
   "metadata": {},
   "outputs": [],
   "source": [
    "X, y = get_AND_data()"
   ]
  },
  {
   "cell_type": "code",
   "execution_count": 13,
   "metadata": {},
   "outputs": [],
   "source": [
    "class Perceptron:\n",
    "    def __init__(self):\n",
    "        self.W = tf.Variable(tf.random.normal([3, 1]))\n",
    "\n",
    "    def train(self, X):\n",
    "        err = 1\n",
    "        epoch, max_epochs = 0, 20\n",
    "        while err > 0.0 and epoch < max_epochs:\n",
    "            epoch += 1\n",
    "            self.optimize(X)\n",
    "            err = self.mse(y, self.pred(X)).numpy()\n",
    "            print(\"epoch:\", epoch, \"mse:\", err)\n",
    "\n",
    "    def pred(self, X):\n",
    "        return self.step(tf.matmul(X, self.W))\n",
    "\n",
    "    def mse(self, y, y_hat):\n",
    "        return tf.reduce_mean(tf.square(tf.subtract(y, y_hat)))\n",
    "\n",
    "    def step(self, x):\n",
    "        return tf.dtypes.cast(tf.math.greater(x, 0), tf.float32)\n",
    "\n",
    "    def optimize(self, X):\n",
    "        delta = tf.matmul(\n",
    "            X, tf.subtract(y, self.step(tf.matmul(X, self.W))), transpose_a=True\n",
    "        )\n",
    "        self.W.assign(self.W + delta)"
   ]
  },
  {
   "cell_type": "markdown",
   "metadata": {},
   "source": [
    "## 학습"
   ]
  },
  {
   "cell_type": "code",
   "execution_count": 14,
   "metadata": {},
   "outputs": [
    {
     "name": "stdout",
     "output_type": "stream",
     "text": [
      "epoch: 1 mse: 0.5\n",
      "epoch: 2 mse: 0.25\n",
      "epoch: 3 mse: 0.25\n",
      "epoch: 4 mse: 0.25\n",
      "epoch: 5 mse: 0.5\n",
      "epoch: 6 mse: 0.25\n",
      "epoch: 7 mse: 0.0\n"
     ]
    }
   ],
   "source": [
    "perceptron = Perceptron()\n",
    "perceptron.train(X)"
   ]
  },
  {
   "cell_type": "markdown",
   "metadata": {},
   "source": [
    "## 테스트"
   ]
  },
  {
   "cell_type": "code",
   "execution_count": 15,
   "metadata": {},
   "outputs": [
    {
     "name": "stdout",
     "output_type": "stream",
     "text": [
      "[[0.]\n",
      " [0.]\n",
      " [0.]\n",
      " [1.]]\n"
     ]
    }
   ],
   "source": [
    "print(perceptron.pred(X).numpy())"
   ]
  },
  {
   "cell_type": "code",
   "execution_count": 16,
   "metadata": {},
   "outputs": [],
   "source": [
    "X, y = get_XOR_data()"
   ]
  },
  {
   "cell_type": "code",
   "execution_count": 17,
   "metadata": {},
   "outputs": [
    {
     "name": "stdout",
     "output_type": "stream",
     "text": [
      "epoch: 1 mse: 0.5\n",
      "epoch: 2 mse: 0.5\n",
      "epoch: 3 mse: 0.5\n",
      "epoch: 4 mse: 0.5\n",
      "epoch: 5 mse: 0.5\n",
      "epoch: 6 mse: 0.5\n",
      "epoch: 7 mse: 0.5\n",
      "epoch: 8 mse: 0.5\n",
      "epoch: 9 mse: 0.5\n",
      "epoch: 10 mse: 0.5\n",
      "epoch: 11 mse: 0.5\n",
      "epoch: 12 mse: 0.5\n",
      "epoch: 13 mse: 0.5\n",
      "epoch: 14 mse: 0.5\n",
      "epoch: 15 mse: 0.5\n",
      "epoch: 16 mse: 0.5\n",
      "epoch: 17 mse: 0.5\n",
      "epoch: 18 mse: 0.5\n",
      "epoch: 19 mse: 0.5\n",
      "epoch: 20 mse: 0.5\n"
     ]
    }
   ],
   "source": [
    "perceptron = Perceptron()\n",
    "perceptron.train(X)"
   ]
  },
  {
   "cell_type": "code",
   "execution_count": 18,
   "metadata": {},
   "outputs": [
    {
     "name": "stdout",
     "output_type": "stream",
     "text": [
      "[[1.]\n",
      " [1.]\n",
      " [1.]\n",
      " [1.]]\n"
     ]
    }
   ],
   "source": [
    "print(perceptron.pred(X).numpy())"
   ]
  }
 ],
 "metadata": {
  "kernelspec": {
   "display_name": "Python 3",
   "language": "python",
   "name": "python3"
  },
  "language_info": {
   "codemirror_mode": {
    "name": "ipython",
    "version": 3
   },
   "file_extension": ".py",
   "mimetype": "text/x-python",
   "name": "python",
   "nbconvert_exporter": "python",
   "pygments_lexer": "ipython3",
   "version": "3.12.4"
  }
 },
 "nbformat": 4,
 "nbformat_minor": 2
}
