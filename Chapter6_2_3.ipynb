{
 "cells": [
  {
   "cell_type": "markdown",
   "metadata": {},
   "source": [
    "# 6.2.3 [실습] RNN 기초"
   ]
  },
  {
   "cell_type": "code",
   "execution_count": 1,
   "metadata": {},
   "outputs": [],
   "source": [
    "import numpy as np"
   ]
  },
  {
   "cell_type": "markdown",
   "metadata": {},
   "source": [
    "## RNN 텐서플로 코드 구현"
   ]
  },
  {
   "cell_type": "code",
   "execution_count": 2,
   "metadata": {},
   "outputs": [],
   "source": [
    "import tensorflow as tf\n",
    "from tensorflow.keras.layers import Input, Dense, SimpleRNN\n",
    "from tensorflow.keras.models import Model"
   ]
  },
  {
   "cell_type": "code",
   "execution_count": 3,
   "metadata": {},
   "outputs": [],
   "source": [
    "inputs = Input(shape=(1, 2))\n",
    "\n",
    "output, state = SimpleRNN(3, return_state=True)(inputs)\n",
    "model = Model(inputs=inputs, outputs=[output, state])"
   ]
  },
  {
   "cell_type": "code",
   "execution_count": null,
   "metadata": {},
   "outputs": [
    {
     "name": "stdout",
     "output_type": "stream",
     "text": [
      "\u001b[1m1/1\u001b[0m \u001b[32m━━━━━━━━━━━━━━━━━━━━\u001b[0m\u001b[37m\u001b[0m \u001b[1m0s\u001b[0m 295ms/step\n",
      "output:  [[0.5122149  0.56269634 0.96338797]]\n",
      "state:  [[0.5122149  0.56269634 0.96338797]]\n"
     ]
    }
   ],
   "source": [
    "data = np.array([[[1, 2]]])\n",
    "\n",
    "output, state = model.predict(data)\n",
    "print(\"output: \", output)\n",
    "print(\"state: \", state)"
   ]
  },
  {
   "cell_type": "code",
   "execution_count": null,
   "metadata": {},
   "outputs": [
    {
     "name": "stdout",
     "output_type": "stream",
     "text": [
      "<KerasVariable shape=(2, 3), dtype=float32, path=simple_rnn/simple_rnn_cell/kernel>\n"
     ]
    }
   ],
   "source": [
    "model.layers[1].weights[0]"
   ]
  },
  {
   "cell_type": "code",
   "execution_count": 10,
   "metadata": {},
   "outputs": [
    {
     "data": {
      "text/plain": [
       "<KerasVariable shape=(3, 3), dtype=float32, path=simple_rnn/simple_rnn_cell/recurrent_kernel>"
      ]
     },
     "execution_count": 10,
     "metadata": {},
     "output_type": "execute_result"
    }
   ],
   "source": [
    "model.layers[1].weights[1]"
   ]
  },
  {
   "cell_type": "code",
   "execution_count": 11,
   "metadata": {},
   "outputs": [
    {
     "data": {
      "text/plain": [
       "<KerasVariable shape=(3,), dtype=float32, path=simple_rnn/simple_rnn_cell/bias>"
      ]
     },
     "execution_count": 11,
     "metadata": {},
     "output_type": "execute_result"
    }
   ],
   "source": [
    "model.layers[1].weights[2]"
   ]
  },
  {
   "cell_type": "markdown",
   "metadata": {},
   "source": [
    "## 텐서플로를 이용한 단어 품사 구분"
   ]
  },
  {
   "cell_type": "code",
   "execution_count": 12,
   "metadata": {},
   "outputs": [],
   "source": [
    "# I         [1,0,0,0]\n",
    "# work      [0,1,0,0]\n",
    "# at        [0,0,1,0]\n",
    "# google    [0,0,0,1]\n",
    "\n",
    "data = np.array(\n",
    "    [\n",
    "        [[1, 0, 0, 0], [0, 1, 0, 0], [0, 0, 1, 0], [0, 0, 0, 1]],\n",
    "        [[1, 0, 0, 0], [0, 0, 0, 1], [0, 0, 1, 0], [0, 1, 0, 0]],\n",
    "    ]\n",
    ")"
   ]
  },
  {
   "cell_type": "code",
   "execution_count": 17,
   "metadata": {},
   "outputs": [
    {
     "name": "stdout",
     "output_type": "stream",
     "text": [
      "\u001b[1m1/1\u001b[0m \u001b[32m━━━━━━━━━━━━━━━━━━━━\u001b[0m\u001b[37m\u001b[0m \u001b[1m0s\u001b[0m 155ms/step\n",
      "I work at google:  [[ 0.22136486 -0.5972894  -0.10483949]\n",
      " [-0.42491227  0.69204295 -0.48565823]\n",
      " [ 0.30405563 -0.3550673   0.6750606 ]\n",
      " [ 0.7833565  -0.08101916 -0.02952401]]\n",
      "I google at work:  [[ 0.22136486 -0.5972894  -0.10483949]\n",
      " [ 0.316886   -0.20901692 -0.37119105]\n",
      " [ 0.190918    0.6302231   0.43887362]\n",
      " [ 0.0944981   0.2875641   0.5095254 ]]\n"
     ]
    }
   ],
   "source": [
    "inputs = Input(shape=(4, 4))\n",
    "\n",
    "output, state = SimpleRNN(3, return_state=True, return_sequences=True)(inputs)\n",
    "model = Model(inputs=inputs, outputs=[output, state])\n",
    "\n",
    "output, state = model.predict(data)\n",
    "\n",
    "print(\"I work at google: \", output[0])\n",
    "print(\"I google at work: \", output[1])"
   ]
  },
  {
   "cell_type": "code",
   "execution_count": 18,
   "metadata": {},
   "outputs": [
    {
     "name": "stdout",
     "output_type": "stream",
     "text": [
      "I work at google:  [ 0.7833565  -0.08101916 -0.02952401]\n",
      "I google at work:  [0.0944981 0.2875641 0.5095254]\n"
     ]
    }
   ],
   "source": [
    "print(\"I work at google: \", state[0])\n",
    "print(\"I google at work: \", state[1])"
   ]
  }
 ],
 "metadata": {
  "kernelspec": {
   "display_name": "Python 3",
   "language": "python",
   "name": "python3"
  },
  "language_info": {
   "codemirror_mode": {
    "name": "ipython",
    "version": 3
   },
   "file_extension": ".py",
   "mimetype": "text/x-python",
   "name": "python",
   "nbconvert_exporter": "python",
   "pygments_lexer": "ipython3",
   "version": "3.12.4"
  }
 },
 "nbformat": 4,
 "nbformat_minor": 2
}
