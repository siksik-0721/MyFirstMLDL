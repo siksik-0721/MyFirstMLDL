{
 "cells": [
  {
   "cell_type": "markdown",
   "metadata": {},
   "source": [
    "# 5.11 [실습] 뉴런(노드)"
   ]
  },
  {
   "cell_type": "code",
   "execution_count": 1,
   "metadata": {},
   "outputs": [],
   "source": [
    "import tensorflow as tf"
   ]
  },
  {
   "cell_type": "code",
   "execution_count": 2,
   "metadata": {},
   "outputs": [],
   "source": [
    "class Node:\n",
    "    def __init__(self):\n",
    "        self.w = tf.Variable(tf.random.normal([2, 1]))\n",
    "        self.b = tf.Variable(tf.random.normal([1, 1]))\n",
    "\n",
    "    def __call__(self, x):\n",
    "        return self.preds(x)\n",
    "\n",
    "    def preds(self, x):\n",
    "        out = tf.matmul(x, self.w)\n",
    "        out = tf.add(out, self.b)\n",
    "        out = tf.nn.sigmoid(out)\n",
    "        return out\n",
    "\n",
    "    def loss(self, y_pred, y):\n",
    "        return tf.reduce_mean(tf.square(y_pred - y))\n",
    "\n",
    "    def train(self, inputs, outputs, learning_rate):\n",
    "        epochs = range(10000)\n",
    "        for epoch in epochs:\n",
    "            with tf.GradientTape() as t:\n",
    "                current_loss = self.loss(self.preds(inputs), outputs)\n",
    "                dw, db = t.gradient(current_loss, [self.w, self.b])\n",
    "                self.w.assign_sub(learning_rate * dw)\n",
    "                self.b.assign_sub(learning_rate * db)"
   ]
  },
  {
   "cell_type": "markdown",
   "metadata": {},
   "source": [
    "## AND 연산"
   ]
  },
  {
   "cell_type": "code",
   "execution_count": 4,
   "metadata": {},
   "outputs": [],
   "source": [
    "inputs = tf.constant([[0.0, 0.0], [0.0, 1.0], [1.0, 0.0], [1.0, 1.0]])\n",
    "outputs = tf.constant([[0.0], [0.0], [0.0], [1.0]])\n",
    "\n",
    "node = Node()\n",
    "node.train(inputs, outputs, 0.01)\n",
    "\n",
    "assert node([[0.0, 0.0]]).numpy()[0][0] < 0.5\n",
    "assert node([[0.0, 1.0]]).numpy()[0][0] < 0.5\n",
    "assert node([[1.0, 0.0]]).numpy()[0][0] < 0.5\n",
    "assert node([[1.0, 1.0]]).numpy()[0][0] >= 0.5"
   ]
  },
  {
   "cell_type": "markdown",
   "metadata": {},
   "source": [
    "## OR 연산"
   ]
  },
  {
   "cell_type": "code",
   "execution_count": 5,
   "metadata": {},
   "outputs": [],
   "source": [
    "inputs = tf.constant([[0.0, 0.0], [0.0, 1.0], [1.0, 0.0], [1.0, 1.0]])\n",
    "outputs = tf.constant([[0.0], [1.0], [1.0], [1.0]])\n",
    "\n",
    "node = Node()\n",
    "node.train(inputs, outputs, 0.01)\n",
    "\n",
    "assert node([[0.0, 0.0]]).numpy()[0][0] < 0.5\n",
    "assert node([[0.0, 1.0]]).numpy()[0][0] >= 0.5\n",
    "assert node([[1.0, 0.0]]).numpy()[0][0] >= 0.5\n",
    "assert node([[1.0, 1.0]]).numpy()[0][0] >= 0.5"
   ]
  }
 ],
 "metadata": {
  "kernelspec": {
   "display_name": "Python 3",
   "language": "python",
   "name": "python3"
  },
  "language_info": {
   "codemirror_mode": {
    "name": "ipython",
    "version": 3
   },
   "file_extension": ".py",
   "mimetype": "text/x-python",
   "name": "python",
   "nbconvert_exporter": "python",
   "pygments_lexer": "ipython3",
   "version": "3.12.4"
  }
 },
 "nbformat": 4,
 "nbformat_minor": 2
}
