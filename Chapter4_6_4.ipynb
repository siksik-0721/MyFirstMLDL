{
 "cells": [
  {
   "cell_type": "markdown",
   "metadata": {},
   "source": [
    "# 4.6.4 [실습] 보팅 앙상블 손글씨 분류"
   ]
  },
  {
   "cell_type": "code",
   "execution_count": 1,
   "metadata": {},
   "outputs": [],
   "source": [
    "from sklearn import datasets\n",
    "from sklearn import tree\n",
    "from sklearn.neighbors import KNeighborsClassifier\n",
    "from sklearn.svm import SVC\n",
    "from sklearn.ensemble import VotingClassifier\n",
    "from sklearn.model_selection import train_test_split\n",
    "from sklearn.metrics import accuracy_score"
   ]
  },
  {
   "cell_type": "code",
   "execution_count": 2,
   "metadata": {},
   "outputs": [],
   "source": [
    "mnist = datasets.load_digits()\n",
    "features, labels = mnist.data, mnist.target\n",
    "X_train, X_test, y_train, y_test = train_test_split(features, labels, test_size=0.2)"
   ]
  },
  {
   "cell_type": "markdown",
   "metadata": {},
   "source": [
    "## 단일 모델의 정확도 측정"
   ]
  },
  {
   "cell_type": "code",
   "execution_count": 3,
   "metadata": {},
   "outputs": [
    {
     "name": "stdout",
     "output_type": "stream",
     "text": [
      "[accuracy]\n",
      "d-tree:  0.8611111111111112\n",
      "knn   :  0.825\n",
      "svm   :  0.8416666666666667\n"
     ]
    }
   ],
   "source": [
    "dtree = tree.DecisionTreeClassifier(\n",
    "    criterion=\"gini\", max_depth=8, max_features=32, random_state=35\n",
    ")\n",
    "dtree = dtree.fit(X_train, y_train)\n",
    "dtree_predicted = dtree.predict(X_test)\n",
    "\n",
    "knn = KNeighborsClassifier(n_neighbors=299).fit(X_train, y_train)\n",
    "knn_predicted = knn.predict(X_test)\n",
    "\n",
    "svm = SVC(C=0.1, gamma=0.003, probability=True, random_state=35).fit(X_train, y_train)\n",
    "svm_predicted = svm.predict(X_test)\n",
    "\n",
    "print(\"[accuracy]\")\n",
    "print(\"d-tree: \", accuracy_score(y_test, dtree_predicted))\n",
    "print(\"knn   : \", accuracy_score(y_test, knn_predicted))\n",
    "print(\"svm   : \", accuracy_score(y_test, svm_predicted))"
   ]
  },
  {
   "cell_type": "markdown",
   "metadata": {},
   "source": [
    "## 분류값별 확률 확인"
   ]
  },
  {
   "cell_type": "code",
   "execution_count": 4,
   "metadata": {},
   "outputs": [
    {
     "name": "stdout",
     "output_type": "stream",
     "text": [
      "[[0.00226505 0.00594303 0.00562542 0.01952584 0.00380531 0.83632702\n",
      "  0.00196377 0.0051052  0.03869134 0.08074801]\n",
      " [0.00305637 0.0153711  0.01365208 0.0107861  0.01149974 0.84243708\n",
      "  0.00367613 0.01240745 0.05053235 0.0365816 ]]\n"
     ]
    }
   ],
   "source": [
    "svm_proba = svm.predict_proba(X_test)\n",
    "print(svm_proba[0:2])"
   ]
  },
  {
   "cell_type": "markdown",
   "metadata": {},
   "source": [
    "## 하드 보팅"
   ]
  },
  {
   "cell_type": "code",
   "execution_count": 5,
   "metadata": {},
   "outputs": [
    {
     "data": {
      "text/plain": [
       "0.9055555555555556"
      ]
     },
     "execution_count": 5,
     "metadata": {},
     "output_type": "execute_result"
    }
   ],
   "source": [
    "voting_clf = VotingClassifier(\n",
    "    estimators=[(\"decision_tree\", dtree), (\"Knn\", knn), (\"svm\", svm)],\n",
    "    weights=[1, 1, 1],\n",
    "    voting=\"hard\",\n",
    ").fit(X_train, y_train)\n",
    "\n",
    "hard_voting_predicted = voting_clf.predict(X_test)\n",
    "accuracy_score(y_test, hard_voting_predicted)"
   ]
  },
  {
   "cell_type": "markdown",
   "metadata": {},
   "source": [
    "## 소프트 보팅"
   ]
  },
  {
   "cell_type": "code",
   "execution_count": 6,
   "metadata": {},
   "outputs": [
    {
     "data": {
      "text/plain": [
       "0.9166666666666666"
      ]
     },
     "execution_count": 6,
     "metadata": {},
     "output_type": "execute_result"
    }
   ],
   "source": [
    "voting_clf = VotingClassifier(\n",
    "    estimators=[(\"decision_tree\", dtree), (\"Knn\", knn), (\"svm\", svm)],\n",
    "    weights=[1, 1, 1],\n",
    "    voting=\"soft\",\n",
    ").fit(X_train, y_train)\n",
    "\n",
    "soft_voting_predicted = voting_clf.predict(X_test)\n",
    "accuracy_score(y_test, soft_voting_predicted)"
   ]
  },
  {
   "cell_type": "markdown",
   "metadata": {},
   "source": [
    "## 단일 모델과 앙상블 모델의 정확도 비교 시각화"
   ]
  },
  {
   "cell_type": "code",
   "execution_count": 7,
   "metadata": {},
   "outputs": [
    {
     "data": {
      "text/plain": [
       "([<matplotlib.axis.XTick at 0x22a2fdab1d0>,\n",
       "  <matplotlib.axis.XTick at 0x22a2fdab1a0>,\n",
       "  <matplotlib.axis.XTick at 0x22a2fba5e50>,\n",
       "  <matplotlib.axis.XTick at 0x22a2fd87800>,\n",
       "  <matplotlib.axis.XTick at 0x22a060343b0>],\n",
       " [Text(0, 0, 'decition tree'),\n",
       "  Text(1, 0, 'knn'),\n",
       "  Text(2, 0, 'svm'),\n",
       "  Text(3, 0, 'hard voting'),\n",
       "  Text(4, 0, 'soft voting')])"
      ]
     },
     "execution_count": 7,
     "metadata": {},
     "output_type": "execute_result"
    },
    {
     "data": {
      "image/png": "[encoded data removed]",
      "text/plain": [
       "<Figure size 640x480 with 1 Axes>"
      ]
     },
     "metadata": {},
     "output_type": "display_data"
    }
   ],
   "source": [
    "import matplotlib.pyplot as plt\n",
    "import numpy as np\n",
    "\n",
    "x = np.arange(5)\n",
    "plt.bar(\n",
    "    x,\n",
    "    height=[\n",
    "        accuracy_score(y_test, dtree_predicted),\n",
    "        accuracy_score(y_test, knn_predicted),\n",
    "        accuracy_score(y_test, svm_predicted),\n",
    "        accuracy_score(y_test, hard_voting_predicted),\n",
    "        accuracy_score(y_test, soft_voting_predicted),\n",
    "    ],\n",
    ")\n",
    "\n",
    "plt.xticks(x, [\"decition tree\", \"knn\", \"svm\", \"hard voting\", \"soft voting\"])"
   ]
  }
 ],
 "metadata": {
  "kernelspec": {
   "display_name": "Python 3",
   "language": "python",
   "name": "python3"
  },
  "language_info": {
   "codemirror_mode": {
    "name": "ipython",
    "version": 3
   },
   "file_extension": ".py",
   "mimetype": "text/x-python",
   "name": "python",
   "nbconvert_exporter": "python",
   "pygments_lexer": "ipython3",
   "version": "3.12.4"
  }
 },
 "nbformat": 4,
 "nbformat_minor": 2
}
